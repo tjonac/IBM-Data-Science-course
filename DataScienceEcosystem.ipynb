{
 "cells": [
  {
   "cell_type": "markdown",
   "id": "c81cc9b3-16a9-4389-80b6-625fd9291c62",
   "metadata": {},
   "source": [
    "# Data Science Tools and Ecosystem"
   ]
  },
  {
   "cell_type": "markdown",
   "id": "d71d3ec2-1054-4a58-aecb-c68b36964062",
   "metadata": {},
   "source": [
    "## Author\n",
    "Jonathan Raymundo Torres Cardenas"
   ]
  },
  {
   "cell_type": "markdown",
   "id": "a64261fa-dffc-46f7-a970-6d6d58ccdc27",
   "metadata": {},
   "source": [
    "In this notebook, Data Science Tools and Ecosystem are summarized"
   ]
  },
  {
   "cell_type": "markdown",
   "id": "bb92bcc5-371a-4769-bc7f-dcf071bce1ed",
   "metadata": {},
   "source": [
    "Some of the popular languages that Data Scientists use are:\n",
    "1. Python\n",
    "2. R\n",
    "3. Julia"
   ]
  },
  {
   "cell_type": "markdown",
   "id": "3c343c04-742e-4165-85fb-a7bac03adec8",
   "metadata": {},
   "source": [
    "**Objectives:**\n",
    "- markdown cells\n",
    "- code cells\n",
    "- insert cells\n",
    "- arithmetic expressions"
   ]
  },
  {
   "cell_type": "markdown",
   "id": "7ab5c4cb-b387-4d8b-a250-f8eed6f48492",
   "metadata": {},
   "source": [
    "Some of the commonly used libraries used by Data Scientists include:\n",
    "1. Pandas\n",
    "2. NumPy\n",
    "3. SciPy"
   ]
  },
  {
   "cell_type": "markdown",
   "id": "d55ac2ed-adba-432c-9010-663484f22f89",
   "metadata": {},
   "source": [
    "|Data Science|\n",
    "|:-|\n",
    "|Anaconda|\n",
    "|Watson Studio|\n",
    "|jupyter|"
   ]
  },
  {
   "cell_type": "markdown",
   "id": "a9c030af-128c-4edf-909b-ba8580e7ec3b",
   "metadata": {},
   "source": [
    "### Below are a few examples of evaluating arithmetic expressions in Python\n",
    "- 2+3\n",
    "- 2*(2+3)\n",
    "- 3*3"
   ]
  },
  {
   "cell_type": "code",
   "execution_count": 4,
   "id": "678a08ff-2799-43f1-8b42-448c3098c140",
   "metadata": {},
   "outputs": [
    {
     "data": {
      "text/plain": [
       "17"
      ]
     },
     "execution_count": 4,
     "metadata": {},
     "output_type": "execute_result"
    }
   ],
   "source": [
    "#This is a simple arithmetic expression to multiply then add integers\n",
    "(3*4)+5"
   ]
  },
  {
   "cell_type": "code",
   "execution_count": 5,
   "id": "ddf25134-ac8e-4e87-94aa-0b37114510fd",
   "metadata": {},
   "outputs": [
    {
     "data": {
      "text/plain": [
       "3.3333333333333335"
      ]
     },
     "execution_count": 5,
     "metadata": {},
     "output_type": "execute_result"
    }
   ],
   "source": [
    "#This will convert 200 minutes to hours by diving by 60\n",
    "200/60"
   ]
  }
 ],
 "metadata": {
  "kernelspec": {
   "display_name": "Python 3 (ipykernel)",
   "language": "python",
   "name": "python3"
  },
  "language_info": {
   "codemirror_mode": {
    "name": "ipython",
    "version": 3
   },
   "file_extension": ".py",
   "mimetype": "text/x-python",
   "name": "python",
   "nbconvert_exporter": "python",
   "pygments_lexer": "ipython3",
   "version": "3.8.3"
  }
 },
 "nbformat": 4,
 "nbformat_minor": 5
}
